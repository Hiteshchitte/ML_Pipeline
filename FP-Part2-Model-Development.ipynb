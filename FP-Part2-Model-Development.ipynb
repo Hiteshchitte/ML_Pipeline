{
 "cells": [
  {
   "cell_type": "markdown",
   "metadata": {},
   "source": [
    "# Part II: Model Development\n",
    "\n",
    "In this part, we develop three unique pipelines for predicting backorder. We use the smart sample from Part I to fit and evaluate these pipelines. "
   ]
  },
  {
   "cell_type": "code",
   "execution_count": 1,
   "metadata": {},
   "outputs": [],
   "source": [
    "%matplotlib inline\n",
    "import matplotlib.pyplot as plt\n",
    "\n",
    "import os, sys\n",
    "import itertools\n",
    "import numpy as np\n",
    "import pandas as pd"
   ]
  },
  {
   "cell_type": "markdown",
   "metadata": {},
   "source": [
    "## Reload the smart sample here"
   ]
  },
  {
   "cell_type": "code",
   "execution_count": 2,
   "metadata": {},
   "outputs": [],
   "source": [
    "\n",
    "# Reload your smart sampling from local file \n",
    "# ----------------------------------\n",
    "\n",
    "import joblib\n",
    "\n",
    "# Load the sampled data from the file\n",
    "hitesh_df = joblib.load('undersample_df.pkl')\n",
    "\n"
   ]
  },
  {
   "cell_type": "code",
   "execution_count": 3,
   "metadata": {},
   "outputs": [
    {
     "data": {
      "text/plain": [
       "national_inv         0\n",
       "lead_time            0\n",
       "in_transit_qty       0\n",
       "forecast_3_month     0\n",
       "forecast_6_month     0\n",
       "forecast_9_month     0\n",
       "sales_1_month        0\n",
       "sales_3_month        0\n",
       "sales_6_month        0\n",
       "sales_9_month        0\n",
       "min_bank             0\n",
       "potential_issue      0\n",
       "pieces_past_due      0\n",
       "perf_6_month_avg     0\n",
       "perf_12_month_avg    0\n",
       "local_bo_qty         0\n",
       "deck_risk            0\n",
       "oe_constraint        0\n",
       "ppap_risk            0\n",
       "stop_auto_buy        0\n",
       "rev_stop             0\n",
       "went_on_backorder    0\n",
       "dtype: int64"
      ]
     },
     "execution_count": 3,
     "metadata": {},
     "output_type": "execute_result"
    }
   ],
   "source": [
    "hitesh_df.isna().sum()"
   ]
  },
  {
   "cell_type": "markdown",
   "metadata": {},
   "source": [
    "## Normalize/standardize the data."
   ]
  },
  {
   "cell_type": "code",
   "execution_count": 4,
   "metadata": {},
   "outputs": [],
   "source": [
    "# from sklearn.preprocessing import MinMaxScaler\n",
    "\n",
    "# scaler = MinMaxScaler()\n",
    "\n",
    "# #Normalizse the dat \n",
    "\n",
    "# normalized_data = scaler.fit_transform(hitesh_df)\n",
    "# normalized_data\n"
   ]
  },
  {
   "cell_type": "code",
   "execution_count": 5,
   "metadata": {},
   "outputs": [],
   "source": [
    "# #Checking if the data is normalised \n",
    "\n",
    "# import numpy as np\n",
    "\n",
    "# normalized_data = scaler.fit_transform(hitesh_df)\n",
    "\n",
    "# print(\"Mean:\", np.mean(normalized_data, axis=0))\n",
    "# print(\"Standard deviation:\", np.std(normalized_data, axis=0)) #As mean is close to 0 and SD is close to 1 we can say that the data is normalized \n",
    "\n"
   ]
  },
  {
   "cell_type": "code",
   "execution_count": 6,
   "metadata": {},
   "outputs": [],
   "source": [
    "# import pandas as pd\n",
    "\n",
    "# normalized_df = pd.DataFrame(normalized_data, columns=hitesh_df.columns)\n",
    "\n",
    "# normalized_df.describe()"
   ]
  },
  {
   "cell_type": "markdown",
   "metadata": {},
   "source": [
    "## Split the data into Train/Test"
   ]
  },
  {
   "cell_type": "code",
   "execution_count": 7,
   "metadata": {},
   "outputs": [],
   "source": [
    "X = hitesh_df.iloc [:, :-1]\n",
    "y = hitesh_df.went_on_backorder"
   ]
  },
  {
   "cell_type": "code",
   "execution_count": 8,
   "metadata": {},
   "outputs": [],
   "source": [
    "from sklearn.model_selection import train_test_split\n",
    "\n",
    "X_train, X_test, y_train, y_test = train_test_split(X, y, test_size = 0.25, random_state = 42, stratify=y)\n",
    "\n"
   ]
  },
  {
   "cell_type": "markdown",
   "metadata": {},
   "source": [
    "## Developing Pipeline\n",
    "\n",
    "In this section, we design an operationalized machine learning pipeline, which includes:\n",
    "\n",
    "* Anomaly detection\n",
    "* Dimensionality Reduction\n",
    "* Train a classification model\n"
   ]
  },
  {
   "cell_type": "code",
   "execution_count": 9,
   "metadata": {},
   "outputs": [],
   "source": [
    "from sklearn.svm import OneClassSVM\n",
    "from sklearn.neighbors import LocalOutlierFactor\n",
    "from sklearn.covariance import EllipticEnvelope\n",
    "from sklearn.ensemble import IsolationForest\n",
    "from sklearn.linear_model import LogisticRegression\n",
    "from sklearn.metrics import classification_report, confusion_matrix\n",
    "from sklearn.decomposition import PCA, FactorAnalysis\n",
    "from sklearn.preprocessing import StandardScaler\n",
    "from sklearn.preprocessing import MinMaxScaler\n",
    "from sklearn.feature_selection import SelectKBest, chi2, f_classif, mutual_info_classif\n",
    "from sklearn.pipeline import Pipeline\n",
    "from sklearn.ensemble import RandomForestClassifier\n",
    "from sklearn.pipeline import Pipeline\n",
    "from sklearn.base import BaseEstimator"
   ]
  },
  {
   "cell_type": "code",
   "execution_count": null,
   "metadata": {},
   "outputs": [],
   "source": []
  },
  {
   "cell_type": "markdown",
   "metadata": {},
   "source": [
    "\n",
    "\n",
    "### Your 1st pipeline \n",
    "  * Anomaly detection\n",
    "  * Dimensionality reduction\n",
    "  * Model training/validation"
   ]
  },
  {
   "cell_type": "code",
   "execution_count": 10,
   "metadata": {},
   "outputs": [],
   "source": [
    "X_train1 = X_train\n",
    "y_train1 = y_train"
   ]
  },
  {
   "cell_type": "code",
   "execution_count": 11,
   "metadata": {},
   "outputs": [
    {
     "name": "stdout",
     "output_type": "stream",
     "text": [
      "Num of outliers = 823\n"
     ]
    }
   ],
   "source": [
    "# Add anomaly detection code  (Question #E201)\n",
    "# ----------------------------------\n",
    "\n",
    "from sklearn.ensemble import IsolationForest\n",
    "\n",
    "# Construct IsolationForest \n",
    "iso_forest = IsolationForest(contamination=0.05).fit(X_train1, y_train1)\n",
    "\n",
    "iso_outliers = iso_forest.predict(X_train1) == -1\n",
    "print(f\"Num of outliers = {np.sum(iso_outliers)}\")\n",
    "X_iso = X_train1[~iso_outliers]\n",
    "y_iso = y_train1[~iso_outliers]\n",
    "\n",
    "\n",
    "\n"
   ]
  },
  {
   "cell_type": "code",
   "execution_count": 12,
   "metadata": {},
   "outputs": [],
   "source": [
    "# Add codes for feature selection and classification pipeline with grid search  (Question #E202)\n",
    "# ----------------------------------\n",
    "\n",
    "\n",
    "pipe = Pipeline([\n",
    "    ('scaler', StandardScaler()),\n",
    "    ('pca', PCA()),\n",
    "    ('logreg', LogisticRegression(max_iter = 1000))                 \n",
    "])"
   ]
  },
  {
   "cell_type": "code",
   "execution_count": 13,
   "metadata": {},
   "outputs": [],
   "source": [
    "# Configuring the parameters for grid search \n",
    "\n",
    "param_grid = {'pca__n_components': [2, 5, 10, 20],\n",
    "        'logreg__C': [0.1, 1, 10, 100, 1000]}"
   ]
  },
  {
   "cell_type": "code",
   "execution_count": 14,
   "metadata": {
    "scrolled": false
   },
   "outputs": [
    {
     "data": {
      "text/plain": [
       "GridSearchCV(cv=5,\n",
       "             estimator=Pipeline(steps=[('scaler', StandardScaler()),\n",
       "                                       ('pca', PCA()),\n",
       "                                       ('logreg',\n",
       "                                        LogisticRegression(max_iter=1000))]),\n",
       "             n_jobs=5,\n",
       "             param_grid={'logreg__C': [0.1, 1, 10, 100, 1000],\n",
       "                         'pca__n_components': [2, 5, 10, 20]})"
      ]
     },
     "execution_count": 14,
     "metadata": {},
     "output_type": "execute_result"
    }
   ],
   "source": [
    "#Grid Search \n",
    "\n",
    "from sklearn.model_selection import GridSearchCV\n",
    "\n",
    "model_grid1 = GridSearchCV(pipe, param_grid, cv = 5, n_jobs = 5)\n",
    "model_grid1.fit(X_iso, y_iso)\n",
    "\n",
    "\n"
   ]
  },
  {
   "cell_type": "code",
   "execution_count": 15,
   "metadata": {},
   "outputs": [
    {
     "name": "stdout",
     "output_type": "stream",
     "text": [
      "              precision    recall  f1-score   support\n",
      "\n",
      "           0       0.88      0.73      0.80      2743\n",
      "           1       0.77      0.90      0.83      2742\n",
      "\n",
      "    accuracy                           0.82      5485\n",
      "   macro avg       0.83      0.82      0.81      5485\n",
      "weighted avg       0.83      0.82      0.81      5485\n",
      "\n"
     ]
    }
   ],
   "source": [
    "# Given an unbiased evaluation  (Question #E203)\n",
    "# ----------------------------------\n",
    "\n",
    "y_pred = model_grid1.predict(X_test)\n",
    "print(classification_report (y_test, y_pred))"
   ]
  },
  {
   "cell_type": "code",
   "execution_count": null,
   "metadata": {},
   "outputs": [],
   "source": []
  },
  {
   "cell_type": "code",
   "execution_count": 16,
   "metadata": {},
   "outputs": [
    {
     "name": "stdout",
     "output_type": "stream",
     "text": [
      "Best Parameter:  {'logreg__C': 1000, 'pca__n_components': 20}\n"
     ]
    },
    {
     "data": {
      "text/plain": [
       "Pipeline(steps=[('scaler', StandardScaler()), ('pca', PCA(n_components=20)),\n",
       "                ('logreg', LogisticRegression(C=1000, max_iter=1000))])"
      ]
     },
     "execution_count": 16,
     "metadata": {},
     "output_type": "execute_result"
    }
   ],
   "source": [
    "print('Best Parameter: ', model_grid1.best_params_)\n",
    "model_1 = model_grid1.best_estimator_\n",
    "model_1"
   ]
  },
  {
   "cell_type": "code",
   "execution_count": 17,
   "metadata": {},
   "outputs": [
    {
     "data": {
      "image/png": "[encoded data removed]",
      "text/plain": [
       "<Figure size 576x576 with 2 Axes>"
      ]
     },
     "metadata": {
      "needs_background": "light"
     },
     "output_type": "display_data"
    }
   ],
   "source": [
    "from sklearn.metrics import confusion_matrix\n",
    "\n",
    "conf_mat = confusion_matrix(y_test, y_pred)\n",
    "\n",
    "# Create figure and axis objects\n",
    "fig, ax = plt.subplots(figsize=(8, 8))\n",
    "\n",
    "# Plot confusion matrix as heatmap with labels\n",
    "im = ax.imshow(conf_mat, cmap='Blues')\n",
    "\n",
    "# Add colorbar and labels\n",
    "cbar = ax.figure.colorbar(im, ax=ax)\n",
    "ax.set_xticks([0, 1])\n",
    "ax.set_yticks([0, 1])\n",
    "ax.set_xticklabels(['Negative', 'Positive'])\n",
    "ax.set_yticklabels(['Negative', 'Positive'])\n",
    "ax.set_xlabel('Predicted label')\n",
    "ax.set_ylabel('True label')\n",
    "\n",
    "# Add values to heatmap\n",
    "for i in range(len(conf_mat)):\n",
    "    for j in range(len(conf_mat[0])):\n",
    "        ax.text(j, i, conf_mat[i][j], ha='center', va='center', color='black')\n",
    "\n",
    "plt.show()"
   ]
  },
  {
   "cell_type": "markdown",
   "metadata": {},
   "source": [
    "#### <center>Recording the optimal hyperparameters and performance resulting from this pipeline.</center>"
   ]
  },
  {
   "cell_type": "raw",
   "metadata": {},
   "source": [
    "# Detail Hyperparameters and Results below  (Question #E204)\n",
    "# ---------------------------------------------\n",
    "GridSearchCV(cv=5,\n",
    "             estimator=Pipeline(steps=[('scaler', StandardScaler()),\n",
    "                                       ('pca', PCA()),\n",
    "                                       ('logreg',\n",
    "                                        LogisticRegression(max_iter=1000))]),\n",
    "             n_jobs=5,\n",
    "             param_grid={'logreg__C': [0.1, 1, 10, 100, 1000],\n",
    "                         'pca__n_components': [2, 5, 10, 20]})\n",
    "                         \n",
    "                         \n",
    "              precision    recall  f1-score   support\n",
    "\n",
    "           0       0.89      0.71      0.79      2743\n",
    "           1       0.76      0.91      0.83      2742\n",
    "\n",
    "    accuracy                           0.81      5485\n",
    "   macro avg       0.82      0.81      0.81      5485\n",
    "weighted avg       0.82      0.81      0.81      5485\n",
    "                         "
   ]
  },
  {
   "cell_type": "markdown",
   "metadata": {},
   "source": [
    "### Your 2nd pipeline\n",
    "  * Anomaly detection\n",
    "  * Dimensionality reduction\n",
    "  * Model training/validation"
   ]
  },
  {
   "cell_type": "code",
   "execution_count": 27,
   "metadata": {},
   "outputs": [],
   "source": [
    "X_train2 = X_train \n",
    "y_train2 = y_train"
   ]
  },
  {
   "cell_type": "code",
   "execution_count": 28,
   "metadata": {},
   "outputs": [
    {
     "name": "stdout",
     "output_type": "stream",
     "text": [
      "Number of outliers: 1317\n"
     ]
    }
   ],
   "source": [
    "# Add anomaly detection code  (Question #E205)\n",
    "# ----------------------------------\n",
    "\n",
    "#Elliptic Envelope \n",
    "\n",
    "envelope = EllipticEnvelope(support_fraction=1, contamination=0.08)  \n",
    "envelope.fit(X_train2)\n",
    "\n",
    "# Predict outliers\n",
    "outliers2 = envelope.predict(X_train2) == -1  \n",
    "\n",
    "print(f\"Number of outliers: {sum(outliers2)}\")\n",
    "\n",
    "X_env = X_train2[~outliers2]\n",
    "y_env = y_train2[~outliers2]\n"
   ]
  },
  {
   "cell_type": "code",
   "execution_count": 29,
   "metadata": {},
   "outputs": [],
   "source": [
    "# Add codes for feature selection and classification pipeline with grid search  (Question #E206)\n",
    "# ----------------------------------\n",
    "\n",
    "pipe2 = Pipeline([\n",
    "    ('scaler', MinMaxScaler()),\n",
    "    ('fa', FactorAnalysis()),\n",
    "    ('rf', RandomForestClassifier())                 \n",
    "])"
   ]
  },
  {
   "cell_type": "code",
   "execution_count": 30,
   "metadata": {},
   "outputs": [],
   "source": [
    "# Configuring the parameters for grid search \n",
    "\n",
    "param_grid2 = {\n",
    "    'fa__n_components': [10, 20, 30, 40],\n",
    "    'rf__n_estimators': [200, 400, 600, 800],\n",
    "    'rf__max_depth': [None, 5, 10],\n",
    "    'rf__min_samples_split': [2, 5, 10]\n",
    "}"
   ]
  },
  {
   "cell_type": "code",
   "execution_count": 31,
   "metadata": {},
   "outputs": [
    {
     "data": {
      "text/plain": [
       "GridSearchCV(cv=5,\n",
       "             estimator=Pipeline(steps=[('scaler', MinMaxScaler()),\n",
       "                                       ('fa', FactorAnalysis()),\n",
       "                                       ('rf', RandomForestClassifier())]),\n",
       "             n_jobs=5,\n",
       "             param_grid={'fa__n_components': [10, 20, 30, 40],\n",
       "                         'rf__max_depth': [None, 5, 10],\n",
       "                         'rf__min_samples_split': [2, 5, 10],\n",
       "                         'rf__n_estimators': [200, 400, 600, 800]})"
      ]
     },
     "execution_count": 31,
     "metadata": {},
     "output_type": "execute_result"
    }
   ],
   "source": [
    "# Given an unbiased evaluation  (Question #E207)\n",
    "# ----------------------------------\n",
    "\n",
    "from sklearn.model_selection import GridSearchCV\n",
    "\n",
    "model_grid2 = GridSearchCV(pipe2, param_grid2, cv = 5 , n_jobs = 5)\n",
    "model_grid2.fit(X_env, y_env)\n"
   ]
  },
  {
   "cell_type": "code",
   "execution_count": 32,
   "metadata": {},
   "outputs": [
    {
     "name": "stdout",
     "output_type": "stream",
     "text": [
      "              precision    recall  f1-score   support\n",
      "\n",
      "           0       0.90      0.86      0.88      2743\n",
      "           1       0.87      0.90      0.89      2742\n",
      "\n",
      "    accuracy                           0.88      5485\n",
      "   macro avg       0.88      0.88      0.88      5485\n",
      "weighted avg       0.88      0.88      0.88      5485\n",
      "\n"
     ]
    }
   ],
   "source": [
    "y_pred2 = model_grid2.predict(X_test)\n",
    "print(classification_report (y_test, y_pred2))\n",
    "\n"
   ]
  },
  {
   "cell_type": "code",
   "execution_count": 33,
   "metadata": {},
   "outputs": [],
   "source": [
    "model_2 = model_grid2.best_estimator_"
   ]
  },
  {
   "cell_type": "code",
   "execution_count": 34,
   "metadata": {},
   "outputs": [
    {
     "data": {
      "image/png": "[encoded data removed]",
      "text/plain": [
       "<Figure size 576x576 with 2 Axes>"
      ]
     },
     "metadata": {
      "needs_background": "light"
     },
     "output_type": "display_data"
    }
   ],
   "source": [
    "from sklearn.metrics import confusion_matrix\n",
    "\n",
    "conf_mat = confusion_matrix(y_test, y_pred2)\n",
    "\n",
    "# Create figure and axis objects\n",
    "fig, ax = plt.subplots(figsize=(8, 8))\n",
    "\n",
    "# Plot confusion matrix as heatmap with labels\n",
    "im = ax.imshow(conf_mat, cmap='Blues')\n",
    "\n",
    "# Add colorbar and labels\n",
    "cbar = ax.figure.colorbar(im, ax=ax)\n",
    "ax.set_xticks([0, 1])\n",
    "ax.set_yticks([0, 1])\n",
    "ax.set_xticklabels(['Negative', 'Positive'])\n",
    "ax.set_yticklabels(['Negative', 'Positive'])\n",
    "ax.set_xlabel('Predicted label')\n",
    "ax.set_ylabel('True label')\n",
    "\n",
    "# Add values to heatmap\n",
    "for i in range(len(conf_mat)):\n",
    "    for j in range(len(conf_mat[0])):\n",
    "        ax.text(j, i, conf_mat[i][j], ha='center', va='center', color='black')\n",
    "\n",
    "plt.show()"
   ]
  },
  {
   "cell_type": "code",
   "execution_count": null,
   "metadata": {},
   "outputs": [],
   "source": []
  },
  {
   "cell_type": "markdown",
   "metadata": {},
   "source": [
    "#### <center>Recording the optimal hyperparameters and performance resulting from this pipeline.</center>"
   ]
  },
  {
   "cell_type": "raw",
   "metadata": {},
   "source": [
    "# Detail Hyperparameters and Results below  (Question #E208)\n",
    "# ---------------------------------------------\n",
    "GridSearchCV(cv=5,\n",
    "             estimator=Pipeline(steps=[('scaler', MinMaxScaler()),\n",
    "                                       ('fa', FactorAnalysis()),\n",
    "                                       ('rf', RandomForestClassifier())]),\n",
    "             n_jobs=5,\n",
    "             param_grid={'fa__n_components': [10, 20, 30, 40],\n",
    "                         'rf__max_depth': [None, 5, 10],\n",
    "                         'rf__min_samples_split': [2, 5, 10],\n",
    "                         'rf__n_estimators': [200, 400, 600, 800]})\n",
    "                         \n",
    "                         \n",
    "              precision    recall  f1-score   support\n",
    "\n",
    "           0       0.90      0.85      0.87      2743\n",
    "           1       0.85      0.91      0.88      2742\n",
    "\n",
    "    accuracy                           0.88      5485\n",
    "   macro avg       0.88      0.88      0.88      5485\n",
    "weighted avg       0.88      0.88      0.88      5485\n",
    "\n"
   ]
  },
  {
   "cell_type": "markdown",
   "metadata": {},
   "source": [
    "### Your 3rd pipeline\n",
    "  * Anomaly detection\n",
    "  * Dimensionality reduction\n",
    "  * Model training/validation"
   ]
  },
  {
   "cell_type": "code",
   "execution_count": 20,
   "metadata": {},
   "outputs": [],
   "source": [
    "X_train3 = X_train\n",
    "y_train3 = y_train "
   ]
  },
  {
   "cell_type": "code",
   "execution_count": 21,
   "metadata": {},
   "outputs": [
    {
     "name": "stdout",
     "output_type": "stream",
     "text": [
      "Number of outliers: 8224\n"
     ]
    }
   ],
   "source": [
    "# Add anomaly detection code  (Question #E209)\n",
    "# ----------------------------------\n",
    "\n",
    "svm = OneClassSVM(kernel='rbf').fit(X_train3,y_train3)\n",
    "\n",
    "# Predict outliers\n",
    "outliers_svm = svm.predict(X_train3) == -1 \n",
    "\n",
    "\n",
    "print(f\"Number of outliers: {sum(outliers_svm)}\")\n",
    "\n",
    "X_svm = X_train3[~outliers_svm]\n",
    "y_svm = y_train3[~outliers_svm]\n"
   ]
  },
  {
   "cell_type": "code",
   "execution_count": 22,
   "metadata": {},
   "outputs": [],
   "source": [
    "# Add codes for feature selection and classification pipeline with grid search  (Question #E210)\n",
    "# ----------------------------------\n",
    "from sklearn.svm import SVC\n",
    "from sklearn.feature_selection import VarianceThreshold\n",
    "\n",
    "pipe3 = Pipeline ([\n",
    "    ('scale', MinMaxScaler()), \n",
    "    ('variance_threshold', VarianceThreshold()), \n",
    "    ('SVC', SVC()) \n",
    "])\n"
   ]
  },
  {
   "cell_type": "code",
   "execution_count": 23,
   "metadata": {},
   "outputs": [
    {
     "data": {
      "text/plain": [
       "RandomizedSearchCV(cv=5,\n",
       "                   estimator=Pipeline(steps=[('scale', MinMaxScaler()),\n",
       "                                             ('variance_threshold',\n",
       "                                              VarianceThreshold()),\n",
       "                                             ('SVC', SVC())]),\n",
       "                   param_distributions={'SVC__C': <scipy.stats._distn_infrastructure.rv_frozen object at 0x7f038e56f240>,\n",
       "                                        'SVC__gamma': <scipy.stats._distn_infrastructure.rv_frozen object at 0x7f038e4f0860>,\n",
       "                                        'SVC__kernel': ['rbf'],\n",
       "                                        'variance_threshold__threshold': [0.01,\n",
       "                                                                          0.05,\n",
       "                                                                          0.09]})"
      ]
     },
     "execution_count": 23,
     "metadata": {},
     "output_type": "execute_result"
    }
   ],
   "source": [
    "from scipy.stats import uniform\n",
    "from sklearn.model_selection import RandomizedSearchCV\n",
    "\n",
    "param_grid3 = {\n",
    "    'SVC__C':uniform(100,1000), \n",
    "    'SVC__gamma':uniform(0,0.1),\n",
    "    'variance_threshold__threshold': [0.01, 0.05, 0.09], \n",
    "    'SVC__kernel':['rbf']\n",
    "}\n",
    "\n",
    "model3=RandomizedSearchCV(pipe3,param_grid3,cv=5,n_iter=10)\n",
    "model3.fit(X_svm,y_svm)"
   ]
  },
  {
   "cell_type": "code",
   "execution_count": 24,
   "metadata": {
    "scrolled": false
   },
   "outputs": [
    {
     "name": "stdout",
     "output_type": "stream",
     "text": [
      "              precision    recall  f1-score   support\n",
      "\n",
      "           0       0.72      0.33      0.45      2743\n",
      "           1       0.56      0.87      0.69      2742\n",
      "\n",
      "    accuracy                           0.60      5485\n",
      "   macro avg       0.64      0.60      0.57      5485\n",
      "weighted avg       0.64      0.60      0.57      5485\n",
      "\n"
     ]
    }
   ],
   "source": [
    "# Given an unbiased evaluation  (Question #E211)\n",
    "# ----------------------------------\n",
    "y_pred=model3.predict(X_test)\n",
    "\n",
    "print(classification_report(y_test,y_pred))\n"
   ]
  },
  {
   "cell_type": "code",
   "execution_count": 25,
   "metadata": {},
   "outputs": [],
   "source": [
    "model_3 = model3.best_estimator_\n"
   ]
  },
  {
   "cell_type": "markdown",
   "metadata": {},
   "source": [
    "#### <center>Recording the optimal hyperparameters and performance resulting from this pipeline.</center>"
   ]
  },
  {
   "cell_type": "raw",
   "metadata": {},
   "source": [
    "# Detail Hyperparameters and Results below  (Question #E212)\n",
    "# ---------------------------------------------\n",
    "\n",
    "Pipeline(steps=[('scale', MinMaxScaler()),\n",
    "                ('variance_threshold', VarianceThreshold(threshold=0.01)),\n",
    "                ('SVC', SVC(C=882.7034510330706, gamma=0.09324872914095))])\n",
    "              precision    recall  f1-score   support\n",
    "\n",
    "           0       0.72      0.38      0.49      2743\n",
    "           1       0.58      0.86      0.69      2742\n",
    "\n",
    "    accuracy                           0.62      5485\n",
    "   macro avg       0.65      0.62      0.59      5485\n",
    "weighted avg       0.65      0.62      0.59      5485\n"
   ]
  },
  {
   "cell_type": "markdown",
   "metadata": {},
   "source": [
    "## Compare these three pipelines"
   ]
  },
  {
   "cell_type": "raw",
   "metadata": {},
   "source": [
    "# Write your analysis in this cell (Question #E213)\n",
    "# ----------------------------------\n",
    "#Pipeline1:\n",
    "    accuracy                           0.81      5485\n",
    "   macro avg       0.82      0.81      0.81      5485\n",
    "weighted avg       0.82      0.81      0.81      5485\n",
    "\n",
    "\n",
    "#Pipeline2:\n",
    "\n",
    "    accuracy                           0.88      5485\n",
    "   macro avg       0.88      0.88      0.88      5485\n",
    "weighted avg       0.88      0.88      0.88      5485\n",
    "\n",
    "\n",
    "\n",
    "\n",
    "#Pipeline3:\n",
    "    accuracy                           0.62      5485\n",
    "   macro avg       0.65      0.62      0.59      5485\n",
    "weighted avg       0.65      0.62      0.59      5485\n"
   ]
  },
  {
   "cell_type": "markdown",
   "metadata": {},
   "source": [
    "### Pickleing the required pipeline/models for Part III."
   ]
  },
  {
   "cell_type": "code",
   "execution_count": 35,
   "metadata": {},
   "outputs": [
    {
     "data": {
      "text/plain": [
       "['model_2.pkl']"
      ]
     },
     "execution_count": 35,
     "metadata": {},
     "output_type": "execute_result"
    }
   ],
   "source": [
    "import joblib\n",
    "\n",
    "joblib.dump(model_2,\"model_2.pkl\")\n"
   ]
  },
  {
   "cell_type": "code",
   "execution_count": null,
   "metadata": {},
   "outputs": [],
   "source": []
  },
  {
   "cell_type": "markdown",
   "metadata": {},
   "source": [
   ]
  },
  {
   "cell_type": "code",
   "execution_count": null,
   "metadata": {},
   "outputs": [],
   "source": []
  }
 ],
 "metadata": {
  "kernelspec": {
   "display_name": "Python 3",
   "language": "python",
   "name": "python3"
  },
  "language_info": {
   "codemirror_mode": {
    "name": "ipython",
    "version": 3
   },
   "file_extension": ".py",
   "mimetype": "text/x-python",
   "name": "python",
   "nbconvert_exporter": "python",
   "pygments_lexer": "ipython3",
   "version": "3.7.3"
  }
 },
 "nbformat": 4,
 "nbformat_minor": 4
}
