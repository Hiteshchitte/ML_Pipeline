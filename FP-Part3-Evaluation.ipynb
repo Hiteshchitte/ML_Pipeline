{
 "cells": [
  {
   "cell_type": "markdown",
   "metadata": {},
   "source": [
    "# Part 3: Unbiased Evaluation using a New Test Set\n",
    "\n",
    "In this part, we are take a new test set. We can now take advantage of the entire smart sample that we created in Part I. "
   ]
  },
  {
   "cell_type": "markdown",
   "metadata": {},
   "source": [
    "## Import modules as needed"
   ]
  },
  {
   "cell_type": "code",
   "execution_count": 1,
   "metadata": {},
   "outputs": [],
   "source": [
    "from sklearn.svm import OneClassSVM\n",
    "from sklearn.neighbors import LocalOutlierFactor\n",
    "from sklearn.covariance import EllipticEnvelope\n",
    "from sklearn.ensemble import IsolationForest\n",
    "from sklearn.linear_model import LogisticRegression\n",
    "from sklearn.metrics import classification_report, confusion_matrix\n",
    "from sklearn.decomposition import PCA, FactorAnalysis\n",
    "from sklearn.preprocessing import StandardScaler\n",
    "from sklearn.preprocessing import MinMaxScaler\n",
    "from sklearn.feature_selection import SelectKBest, chi2, f_classif, mutual_info_classif\n",
    "from sklearn.pipeline import Pipeline\n",
    "from sklearn.ensemble import RandomForestClassifier\n",
    "from sklearn.pipeline import Pipeline\n",
    "from sklearn.base import BaseEstimator \n",
    "import matplotlib.pyplot as plt\n"
   ]
  },
  {
   "cell_type": "markdown",
   "metadata": {},
   "source": [
    "## Load smart sample and the best pipeline from Part II"
   ]
  },
  {
   "cell_type": "code",
   "execution_count": 2,
   "metadata": {},
   "outputs": [],
   "source": [
    "import joblib \n",
    "\n",
    "model = joblib.load('model_2.pkl')\n",
    "\n",
    "hitesh_df = joblib.load('undersample_df.pkl')\n"
   ]
  },
  {
   "cell_type": "code",
   "execution_count": null,
   "metadata": {},
   "outputs": [],
   "source": []
  },
  {
   "cell_type": "markdown",
   "metadata": {},
   "source": [
    "\n",
    "##  Retraining a pipeline using the full sampled training data set\n",
    "\n",
    "We will use these full sampled training data set to train the pipeline."
   ]
  },
  {
   "cell_type": "code",
   "execution_count": null,
   "metadata": {},
   "outputs": [],
   "source": []
  },
  {
   "cell_type": "code",
   "execution_count": 3,
   "metadata": {},
   "outputs": [],
   "source": [
    "# Add code below this comment  (Question #E301)\n",
    "# ----------------------------------\n",
    "\n",
    "envelope = EllipticEnvelope(support_fraction=1, contamination=0.08)  \n",
    "envelope.fit(hitesh_df)\n",
    "\n",
    "# Predict outliers\n",
    "outliers = envelope.predict(hitesh_df) == -1  \n",
    "hitesh_df = hitesh_df[~outliers]\n",
    "\n",
    "\n",
    "# Scaling the data \n",
    "\n",
    "scale = Pipeline([\n",
    "    (\"scaler\", MinMaxScaler())\n",
    "])\n",
    "hitesh_df = scale.fit_transform(hitesh_df)\n"
   ]
  },
  {
   "cell_type": "code",
   "execution_count": null,
   "metadata": {},
   "outputs": [],
   "source": [
    "\n"
   ]
  },
  {
   "cell_type": "code",
   "execution_count": 4,
   "metadata": {},
   "outputs": [
    {
     "data": {
      "text/plain": [
       "Pipeline(steps=[('scaler', MinMaxScaler()),\n",
       "                ('fa', FactorAnalysis(n_components=40)),\n",
       "                ('rf', RandomForestClassifier(n_estimators=600))])"
      ]
     },
     "execution_count": 4,
     "metadata": {},
     "output_type": "execute_result"
    }
   ],
   "source": [
    "\n",
    "X = hitesh_df[:, :-1]\n",
    "y = hitesh_df[:, -1]\n",
    "\n",
    "\n",
    "best_model = model.fit(X, y)\n",
    "best_model"
   ]
  },
  {
   "cell_type": "markdown",
   "metadata": {},
   "source": [
    "### Saving the trained model with the pickle library."
   ]
  },
  {
   "cell_type": "code",
   "execution_count": 6,
   "metadata": {},
   "outputs": [
    {
     "data": {
      "text/plain": [
       "['model2.pkl']"
      ]
     },
     "execution_count": 6,
     "metadata": {},
     "output_type": "execute_result"
    }
   ],
   "source": [
    "# Add code below this comment  \n",
    "# -----------------------------\n",
    "\n",
    "\n",
    "import joblib\n",
    "\n",
    "joblib.dump(best_model,\"model2.pkl\")\n",
    "\n",
    "\n"
   ]
  },
  {
   "cell_type": "markdown",
   "metadata": {},
   "source": [
    "\n",
    "## Loading the Testing Data and evaluate your model\n",
    "\n",
    "* We need to preprocess this test data"
   ]
  },
  {
   "cell_type": "markdown",
   "metadata": {},
   "source": [
    "# Pre-Process"
   ]
  },
  {
   "cell_type": "code",
   "execution_count": 7,
   "metadata": {},
   "outputs": [
    {
     "name": "stderr",
     "output_type": "stream",
     "text": [
      "/opt/conda/lib/python3.7/site-packages/IPython/core/interactiveshell.py:3058: DtypeWarning: Columns (0) have mixed types.Specify dtype option on import or set low_memory=False.\n",
      "  interactivity=interactivity, compiler=compiler, result=result)\n"
     ]
    }
   ],
   "source": [
    "# Preprocess the given test set  (Question #E302)\n",
    "# ----------------------------------\n",
    "\n",
    "\n",
    "import os, sys\n",
    "import numpy as np\n",
    "import pandas as pd \n",
    "\n",
    "dataset = \"/dsa/data/all_datasets/back_order/Kaggle_Test_Dataset_v2.csv\"\n",
    "assert os.path.exists(dataset)\n",
    "\n",
    "dataset = pd.read_csv(dataset).sample(frac = 1).reset_index(drop=True)\n",
    "\n",
    "\n"
   ]
  },
  {
   "cell_type": "code",
   "execution_count": 8,
   "metadata": {},
   "outputs": [
    {
     "data": {
      "text/html": [
       "<div>\n",
       "<style scoped>\n",
       "    .dataframe tbody tr th:only-of-type {\n",
       "        vertical-align: middle;\n",
       "    }\n",
       "\n",
       "    .dataframe tbody tr th {\n",
       "        vertical-align: top;\n",
       "    }\n",
       "\n",
       "    .dataframe thead th {\n",
       "        text-align: right;\n",
       "    }\n",
       "</style>\n",
       "<table border=\"1\" class=\"dataframe\">\n",
       "  <thead>\n",
       "    <tr style=\"text-align: right;\">\n",
       "      <th></th>\n",
       "      <th>sku</th>\n",
       "      <th>national_inv</th>\n",
       "      <th>lead_time</th>\n",
       "      <th>in_transit_qty</th>\n",
       "      <th>forecast_3_month</th>\n",
       "      <th>forecast_6_month</th>\n",
       "      <th>forecast_9_month</th>\n",
       "      <th>sales_1_month</th>\n",
       "      <th>sales_3_month</th>\n",
       "      <th>sales_6_month</th>\n",
       "      <th>...</th>\n",
       "      <th>pieces_past_due</th>\n",
       "      <th>perf_6_month_avg</th>\n",
       "      <th>perf_12_month_avg</th>\n",
       "      <th>local_bo_qty</th>\n",
       "      <th>deck_risk</th>\n",
       "      <th>oe_constraint</th>\n",
       "      <th>ppap_risk</th>\n",
       "      <th>stop_auto_buy</th>\n",
       "      <th>rev_stop</th>\n",
       "      <th>went_on_backorder</th>\n",
       "    </tr>\n",
       "  </thead>\n",
       "  <tbody>\n",
       "    <tr>\n",
       "      <th>0</th>\n",
       "      <td>3417267</td>\n",
       "      <td>14.0</td>\n",
       "      <td>2.0</td>\n",
       "      <td>0.0</td>\n",
       "      <td>19.0</td>\n",
       "      <td>38.0</td>\n",
       "      <td>76.0</td>\n",
       "      <td>7.0</td>\n",
       "      <td>23.0</td>\n",
       "      <td>43.0</td>\n",
       "      <td>...</td>\n",
       "      <td>0.0</td>\n",
       "      <td>0.99</td>\n",
       "      <td>0.99</td>\n",
       "      <td>0.0</td>\n",
       "      <td>No</td>\n",
       "      <td>No</td>\n",
       "      <td>No</td>\n",
       "      <td>Yes</td>\n",
       "      <td>No</td>\n",
       "      <td>No</td>\n",
       "    </tr>\n",
       "    <tr>\n",
       "      <th>1</th>\n",
       "      <td>3452980</td>\n",
       "      <td>7.0</td>\n",
       "      <td>12.0</td>\n",
       "      <td>0.0</td>\n",
       "      <td>0.0</td>\n",
       "      <td>0.0</td>\n",
       "      <td>0.0</td>\n",
       "      <td>0.0</td>\n",
       "      <td>3.0</td>\n",
       "      <td>5.0</td>\n",
       "      <td>...</td>\n",
       "      <td>0.0</td>\n",
       "      <td>0.73</td>\n",
       "      <td>0.79</td>\n",
       "      <td>0.0</td>\n",
       "      <td>No</td>\n",
       "      <td>No</td>\n",
       "      <td>No</td>\n",
       "      <td>Yes</td>\n",
       "      <td>No</td>\n",
       "      <td>No</td>\n",
       "    </tr>\n",
       "    <tr>\n",
       "      <th>2</th>\n",
       "      <td>3340710</td>\n",
       "      <td>11.0</td>\n",
       "      <td>2.0</td>\n",
       "      <td>0.0</td>\n",
       "      <td>0.0</td>\n",
       "      <td>0.0</td>\n",
       "      <td>0.0</td>\n",
       "      <td>0.0</td>\n",
       "      <td>1.0</td>\n",
       "      <td>2.0</td>\n",
       "      <td>...</td>\n",
       "      <td>0.0</td>\n",
       "      <td>0.69</td>\n",
       "      <td>0.72</td>\n",
       "      <td>0.0</td>\n",
       "      <td>Yes</td>\n",
       "      <td>No</td>\n",
       "      <td>No</td>\n",
       "      <td>Yes</td>\n",
       "      <td>No</td>\n",
       "      <td>No</td>\n",
       "    </tr>\n",
       "    <tr>\n",
       "      <th>3</th>\n",
       "      <td>3453538</td>\n",
       "      <td>28.0</td>\n",
       "      <td>8.0</td>\n",
       "      <td>0.0</td>\n",
       "      <td>0.0</td>\n",
       "      <td>0.0</td>\n",
       "      <td>0.0</td>\n",
       "      <td>0.0</td>\n",
       "      <td>0.0</td>\n",
       "      <td>1.0</td>\n",
       "      <td>...</td>\n",
       "      <td>0.0</td>\n",
       "      <td>0.87</td>\n",
       "      <td>0.92</td>\n",
       "      <td>0.0</td>\n",
       "      <td>Yes</td>\n",
       "      <td>No</td>\n",
       "      <td>No</td>\n",
       "      <td>Yes</td>\n",
       "      <td>No</td>\n",
       "      <td>No</td>\n",
       "    </tr>\n",
       "    <tr>\n",
       "      <th>4</th>\n",
       "      <td>3396510</td>\n",
       "      <td>5.0</td>\n",
       "      <td>12.0</td>\n",
       "      <td>0.0</td>\n",
       "      <td>0.0</td>\n",
       "      <td>0.0</td>\n",
       "      <td>0.0</td>\n",
       "      <td>0.0</td>\n",
       "      <td>0.0</td>\n",
       "      <td>0.0</td>\n",
       "      <td>...</td>\n",
       "      <td>0.0</td>\n",
       "      <td>0.57</td>\n",
       "      <td>0.68</td>\n",
       "      <td>0.0</td>\n",
       "      <td>No</td>\n",
       "      <td>No</td>\n",
       "      <td>No</td>\n",
       "      <td>Yes</td>\n",
       "      <td>No</td>\n",
       "      <td>No</td>\n",
       "    </tr>\n",
       "  </tbody>\n",
       "</table>\n",
       "<p>5 rows × 23 columns</p>\n",
       "</div>"
      ],
      "text/plain": [
       "       sku  national_inv  lead_time  in_transit_qty  forecast_3_month  \\\n",
       "0  3417267          14.0        2.0             0.0              19.0   \n",
       "1  3452980           7.0       12.0             0.0               0.0   \n",
       "2  3340710          11.0        2.0             0.0               0.0   \n",
       "3  3453538          28.0        8.0             0.0               0.0   \n",
       "4  3396510           5.0       12.0             0.0               0.0   \n",
       "\n",
       "   forecast_6_month  forecast_9_month  sales_1_month  sales_3_month  \\\n",
       "0              38.0              76.0            7.0           23.0   \n",
       "1               0.0               0.0            0.0            3.0   \n",
       "2               0.0               0.0            0.0            1.0   \n",
       "3               0.0               0.0            0.0            0.0   \n",
       "4               0.0               0.0            0.0            0.0   \n",
       "\n",
       "   sales_6_month  ...  pieces_past_due  perf_6_month_avg perf_12_month_avg  \\\n",
       "0           43.0  ...              0.0              0.99              0.99   \n",
       "1            5.0  ...              0.0              0.73              0.79   \n",
       "2            2.0  ...              0.0              0.69              0.72   \n",
       "3            1.0  ...              0.0              0.87              0.92   \n",
       "4            0.0  ...              0.0              0.57              0.68   \n",
       "\n",
       "   local_bo_qty  deck_risk  oe_constraint  ppap_risk stop_auto_buy rev_stop  \\\n",
       "0           0.0         No             No         No           Yes       No   \n",
       "1           0.0         No             No         No           Yes       No   \n",
       "2           0.0        Yes             No         No           Yes       No   \n",
       "3           0.0        Yes             No         No           Yes       No   \n",
       "4           0.0         No             No         No           Yes       No   \n",
       "\n",
       "  went_on_backorder  \n",
       "0                No  \n",
       "1                No  \n",
       "2                No  \n",
       "3                No  \n",
       "4                No  \n",
       "\n",
       "[5 rows x 23 columns]"
      ]
     },
     "execution_count": 8,
     "metadata": {},
     "output_type": "execute_result"
    }
   ],
   "source": [
    "dataset.head()"
   ]
  },
  {
   "cell_type": "code",
   "execution_count": 9,
   "metadata": {},
   "outputs": [
    {
     "name": "stdout",
     "output_type": "stream",
     "text": [
      "['sku', 'potential_issue', 'deck_risk', 'oe_constraint', 'ppap_risk', 'stop_auto_buy', 'rev_stop', 'went_on_backorder']\n",
      "potential_risk ['No' 'Yes' nan]\n",
      "deck_risk ['No' 'Yes' nan]\n",
      "oe_constraint ['No' 'Yes' nan]\n",
      "ppap_risk ['No' 'Yes' nan]\n",
      "stop_auto_buy ['Yes' 'No' nan]\n",
      "rev_stop ['No' 'Yes' nan]\n",
      "went_on_backorder ['No' 'Yes' nan]\n"
     ]
    }
   ],
   "source": [
    "yes_no_columns = list(filter(lambda i: dataset[i].dtype!=np.float64, dataset.columns))\n",
    "print(yes_no_columns)\n",
    "\n",
    "# Add code below this comment  (Question #E102)\n",
    "# ----------------------------------\n",
    "\n",
    "print('potential_risk', dataset['potential_issue'].unique())\n",
    "print('deck_risk', dataset['deck_risk'].unique())\n",
    "print('oe_constraint', dataset['oe_constraint'].unique())\n",
    "print('ppap_risk', dataset['ppap_risk'].unique())\n",
    "print('stop_auto_buy', dataset['stop_auto_buy'].unique())\n",
    "print('rev_stop', dataset['rev_stop'].unique())\n",
    "print('went_on_backorder', dataset['went_on_backorder'].unique())\n",
    "      "
   ]
  },
  {
   "cell_type": "code",
   "execution_count": 10,
   "metadata": {},
   "outputs": [
    {
     "name": "stdout",
     "output_type": "stream",
     "text": [
      "Filling missing values of sku with (242075 rows)\n",
      "Filling missing values of potential_issue with No\n",
      "Filling missing values of deck_risk with No\n",
      "Filling missing values of oe_constraint with No\n",
      "Filling missing values of ppap_risk with No\n",
      "Filling missing values of stop_auto_buy with Yes\n",
      "Filling missing values of rev_stop with No\n",
      "Filling missing values of went_on_backorder with No\n"
     ]
    }
   ],
   "source": [
    "for column_name in yes_no_columns:\n",
    "    mode = dataset[column_name].apply(str).mode()[0]\n",
    "    print('Filling missing values of {} with {}'.format(column_name, mode))\n",
    "    dataset[column_name].fillna(mode, inplace=True)\n",
    "    "
   ]
  },
  {
   "cell_type": "code",
   "execution_count": 11,
   "metadata": {},
   "outputs": [
    {
     "name": "stdout",
     "output_type": "stream",
     "text": [
      "sku                      0\n",
      "national_inv             1\n",
      "lead_time            14725\n",
      "in_transit_qty           1\n",
      "forecast_3_month         1\n",
      "forecast_6_month         1\n",
      "forecast_9_month         1\n",
      "sales_1_month            1\n",
      "sales_3_month            1\n",
      "sales_6_month            1\n",
      "sales_9_month            1\n",
      "min_bank                 1\n",
      "potential_issue          0\n",
      "pieces_past_due          1\n",
      "perf_6_month_avg         1\n",
      "perf_12_month_avg        1\n",
      "local_bo_qty             1\n",
      "deck_risk                0\n",
      "oe_constraint            0\n",
      "ppap_risk                0\n",
      "stop_auto_buy            0\n",
      "rev_stop                 0\n",
      "went_on_backorder        0\n",
      "dtype: int64\n"
     ]
    }
   ],
   "source": [
    "print(dataset.isna().sum())"
   ]
  },
  {
   "cell_type": "code",
   "execution_count": 12,
   "metadata": {},
   "outputs": [],
   "source": [
    "dataset[yes_no_columns] = dataset[yes_no_columns].replace({'Yes': 1, 'No': 0})"
   ]
  },
  {
   "cell_type": "code",
   "execution_count": 13,
   "metadata": {},
   "outputs": [],
   "source": [
    "dataset.drop('sku', axis=1, inplace=True) # Dropping the SKU column "
   ]
  },
  {
   "cell_type": "code",
   "execution_count": 14,
   "metadata": {},
   "outputs": [
    {
     "name": "stdout",
     "output_type": "stream",
     "text": [
      "0          2.0\n",
      "1         12.0\n",
      "2          2.0\n",
      "3          8.0\n",
      "4         12.0\n",
      "          ... \n",
      "242071     8.0\n",
      "242072     8.0\n",
      "242073     8.0\n",
      "242074     2.0\n",
      "242075     2.0\n",
      "Name: lead_time, Length: 242076, dtype: float64\n"
     ]
    }
   ],
   "source": [
    "# Replacing NaN with mean \n",
    "\n",
    "dataset \n",
    "\n",
    "# calculate the mean value of column A\n",
    "mean_A = dataset['lead_time'].mean()\n",
    "\n",
    "# replace NaN values in column A with the mean value\n",
    "dataset['lead_time'].fillna(mean_A, inplace=True)\n",
    "\n",
    "# display the updated dataframe\n",
    "print(dataset['lead_time'])"
   ]
  },
  {
   "cell_type": "code",
   "execution_count": 15,
   "metadata": {},
   "outputs": [
    {
     "data": {
      "text/html": [
       "<div>\n",
       "<style scoped>\n",
       "    .dataframe tbody tr th:only-of-type {\n",
       "        vertical-align: middle;\n",
       "    }\n",
       "\n",
       "    .dataframe tbody tr th {\n",
       "        vertical-align: top;\n",
       "    }\n",
       "\n",
       "    .dataframe thead th {\n",
       "        text-align: right;\n",
       "    }\n",
       "</style>\n",
       "<table border=\"1\" class=\"dataframe\">\n",
       "  <thead>\n",
       "    <tr style=\"text-align: right;\">\n",
       "      <th></th>\n",
       "      <th>national_inv</th>\n",
       "      <th>lead_time</th>\n",
       "      <th>in_transit_qty</th>\n",
       "      <th>forecast_3_month</th>\n",
       "      <th>forecast_6_month</th>\n",
       "      <th>forecast_9_month</th>\n",
       "      <th>sales_1_month</th>\n",
       "      <th>sales_3_month</th>\n",
       "      <th>sales_6_month</th>\n",
       "      <th>sales_9_month</th>\n",
       "      <th>...</th>\n",
       "      <th>pieces_past_due</th>\n",
       "      <th>perf_6_month_avg</th>\n",
       "      <th>perf_12_month_avg</th>\n",
       "      <th>local_bo_qty</th>\n",
       "      <th>deck_risk</th>\n",
       "      <th>oe_constraint</th>\n",
       "      <th>ppap_risk</th>\n",
       "      <th>stop_auto_buy</th>\n",
       "      <th>rev_stop</th>\n",
       "      <th>went_on_backorder</th>\n",
       "    </tr>\n",
       "  </thead>\n",
       "  <tbody>\n",
       "    <tr>\n",
       "      <th>168856</th>\n",
       "      <td>NaN</td>\n",
       "      <td>7.923018</td>\n",
       "      <td>NaN</td>\n",
       "      <td>NaN</td>\n",
       "      <td>NaN</td>\n",
       "      <td>NaN</td>\n",
       "      <td>NaN</td>\n",
       "      <td>NaN</td>\n",
       "      <td>NaN</td>\n",
       "      <td>NaN</td>\n",
       "      <td>...</td>\n",
       "      <td>NaN</td>\n",
       "      <td>NaN</td>\n",
       "      <td>NaN</td>\n",
       "      <td>NaN</td>\n",
       "      <td>0</td>\n",
       "      <td>0</td>\n",
       "      <td>0</td>\n",
       "      <td>1</td>\n",
       "      <td>0</td>\n",
       "      <td>0</td>\n",
       "    </tr>\n",
       "  </tbody>\n",
       "</table>\n",
       "<p>1 rows × 22 columns</p>\n",
       "</div>"
      ],
      "text/plain": [
       "        national_inv  lead_time  in_transit_qty  forecast_3_month  \\\n",
       "168856           NaN   7.923018             NaN               NaN   \n",
       "\n",
       "        forecast_6_month  forecast_9_month  sales_1_month  sales_3_month  \\\n",
       "168856               NaN               NaN            NaN            NaN   \n",
       "\n",
       "        sales_6_month  sales_9_month  ...  pieces_past_due  perf_6_month_avg  \\\n",
       "168856            NaN            NaN  ...              NaN               NaN   \n",
       "\n",
       "        perf_12_month_avg  local_bo_qty  deck_risk  oe_constraint  ppap_risk  \\\n",
       "168856                NaN           NaN          0              0          0   \n",
       "\n",
       "        stop_auto_buy  rev_stop  went_on_backorder  \n",
       "168856              1         0                  0  \n",
       "\n",
       "[1 rows x 22 columns]"
      ]
     },
     "execution_count": 15,
     "metadata": {},
     "output_type": "execute_result"
    }
   ],
   "source": [
    "\n",
    "dataset[dataset[\"min_bank\"].isna()]\n",
    "\n"
   ]
  },
  {
   "cell_type": "code",
   "execution_count": 18,
   "metadata": {},
   "outputs": [],
   "source": [
    "pp_data = dataset.drop(index = 168856)\n",
    "pp_data = pp_data.reset_index(drop = True)\n"
   ]
  },
  {
   "cell_type": "code",
   "execution_count": 19,
   "metadata": {},
   "outputs": [
    {
     "data": {
      "text/plain": [
       "national_inv         0\n",
       "lead_time            0\n",
       "in_transit_qty       0\n",
       "forecast_3_month     0\n",
       "forecast_6_month     0\n",
       "forecast_9_month     0\n",
       "sales_1_month        0\n",
       "sales_3_month        0\n",
       "sales_6_month        0\n",
       "sales_9_month        0\n",
       "min_bank             0\n",
       "potential_issue      0\n",
       "pieces_past_due      0\n",
       "perf_6_month_avg     0\n",
       "perf_12_month_avg    0\n",
       "local_bo_qty         0\n",
       "deck_risk            0\n",
       "oe_constraint        0\n",
       "ppap_risk            0\n",
       "stop_auto_buy        0\n",
       "rev_stop             0\n",
       "went_on_backorder    0\n",
       "dtype: int64"
      ]
     },
     "execution_count": 19,
     "metadata": {},
     "output_type": "execute_result"
    }
   ],
   "source": [
    "pp_data.isna().sum()"
   ]
  },
  {
   "cell_type": "markdown",
   "metadata": {},
   "source": [
    "We can now predict and evaluate with the preprocessed test set. It would be interesting to see the performance with and without outliers removal from the test set. We can report confusion matrix, precision, recall, f1-score, accuracy, and other measures (if any). "
   ]
  },
  {
   "cell_type": "code",
   "execution_count": 20,
   "metadata": {},
   "outputs": [],
   "source": [
    "# scale = Pipeline([\n",
    "#     (\"scaler\", MinMaxScaler())\n",
    "# ])\n",
    "\n",
    "# pp_data = scale.fit_transform(pp_data)\n",
    "# pp_data_outlier = scale.fit_transform(pp_data)\n"
   ]
  },
  {
   "cell_type": "code",
   "execution_count": null,
   "metadata": {},
   "outputs": [],
   "source": []
  },
  {
   "cell_type": "code",
   "execution_count": null,
   "metadata": {},
   "outputs": [],
   "source": []
  },
  {
   "cell_type": "markdown",
   "metadata": {},
   "source": [
    "# Prediction without Outliers"
   ]
  },
  {
   "cell_type": "code",
   "execution_count": 21,
   "metadata": {},
   "outputs": [
    {
     "name": "stdout",
     "output_type": "stream",
     "text": [
      "Number of outliers: 19366\n"
     ]
    }
   ],
   "source": [
    "# Performing Anamoly detection\n",
    "\n",
    "\n",
    "envelope = EllipticEnvelope(support_fraction=1, contamination=0.08)  \n",
    "envelope.fit(pp_data)\n",
    "\n",
    "# Predict outliers\n",
    "outliers = envelope.predict(pp_data) == -1  \n",
    "\n",
    "print(f\"Number of outliers: {sum(outliers)}\")\n",
    "\n",
    "no_outliers = pp_data[~outliers]\n",
    "\n",
    "\n"
   ]
  },
  {
   "cell_type": "code",
   "execution_count": 23,
   "metadata": {},
   "outputs": [
    {
     "data": {
      "text/plain": [
       "(222709, 22)"
      ]
     },
     "execution_count": 23,
     "metadata": {},
     "output_type": "execute_result"
    }
   ],
   "source": [
    "no_outliers.shape"
   ]
  },
  {
   "cell_type": "code",
   "execution_count": 35,
   "metadata": {},
   "outputs": [],
   "source": [
    "scale = Pipeline([\n",
    "    (\"scaler\", MinMaxScaler())\n",
    "])\n",
    "    \n",
    "no_outliers = scale.fit_transform(no_outliers)\n"
   ]
  },
  {
   "cell_type": "code",
   "execution_count": 36,
   "metadata": {},
   "outputs": [],
   "source": [
    "X_test = no_outliers[:, :-1]\n",
    "y_test = no_outliers[:, -1]"
   ]
  },
  {
   "cell_type": "code",
   "execution_count": 37,
   "metadata": {},
   "outputs": [
    {
     "name": "stdout",
     "output_type": "stream",
     "text": [
      "              precision    recall  f1-score   support\n",
      "\n",
      "         0.0       0.99      0.73      0.84    220150\n",
      "         1.0       0.01      0.32      0.03      2559\n",
      "\n",
      "    accuracy                           0.73    222709\n",
      "   macro avg       0.50      0.53      0.43    222709\n",
      "weighted avg       0.98      0.73      0.83    222709\n",
      "\n"
     ]
    }
   ],
   "source": [
    "# Add code below this comment  (Question #E303)\n",
    "# ----------------------------------\n",
    "\n",
    "\n",
    "y_pred1 = best_model.predict(X_test)\n",
    "print(classification_report (y_test, y_pred1))\n"
   ]
  },
  {
   "cell_type": "code",
   "execution_count": 38,
   "metadata": {},
   "outputs": [
    {
     "data": {
      "image/png": "[encoded data removed]",
      "text/plain": [
       "<Figure size 576x576 with 2 Axes>"
      ]
     },
     "metadata": {
      "needs_background": "light"
     },
     "output_type": "display_data"
    }
   ],
   "source": [
    "from sklearn.metrics import confusion_matrix\n",
    "\n",
    "conf_mat = confusion_matrix(y_test, y_pred1)\n",
    "\n",
    "# Create figure and axis objects\n",
    "fig, ax = plt.subplots(figsize=(8, 8))\n",
    "\n",
    "# Plot confusion matrix as heatmap with labels\n",
    "im = ax.imshow(conf_mat, cmap='Blues')\n",
    "\n",
    "# Add colorbar and labels\n",
    "cbar = ax.figure.colorbar(im, ax=ax)\n",
    "ax.set_xticks([0, 1])\n",
    "ax.set_yticks([0, 1])\n",
    "ax.set_xticklabels(['Negative', 'Positive'])\n",
    "ax.set_yticklabels(['Negative', 'Positive'])\n",
    "ax.set_xlabel('Predicted label')\n",
    "ax.set_ylabel('True label')\n",
    "\n",
    "# Add values to heatmap\n",
    "for i in range(len(conf_mat)):\n",
    "    for j in range(len(conf_mat[0])):\n",
    "        ax.text(j, i, conf_mat[i][j], ha='center', va='center', color='black')\n",
    "\n",
    "plt.show()"
   ]
  },
  {
   "cell_type": "markdown",
   "metadata": {},
   "source": [
    "# Prediction with outliers "
   ]
  },
  {
   "cell_type": "code",
   "execution_count": 39,
   "metadata": {},
   "outputs": [],
   "source": [
    "with_outlier = pp_data_outlier"
   ]
  },
  {
   "cell_type": "code",
   "execution_count": 40,
   "metadata": {},
   "outputs": [
    {
     "data": {
      "text/plain": [
       "(242075, 22)"
      ]
     },
     "execution_count": 40,
     "metadata": {},
     "output_type": "execute_result"
    }
   ],
   "source": [
    "with_outlier.shape"
   ]
  },
  {
   "cell_type": "code",
   "execution_count": null,
   "metadata": {},
   "outputs": [],
   "source": []
  },
  {
   "cell_type": "code",
   "execution_count": 41,
   "metadata": {},
   "outputs": [],
   "source": [
    "X_out = with_outlier[:, :-1]\n",
    "y_out = with_outlier[:, -1]\n"
   ]
  },
  {
   "cell_type": "code",
   "execution_count": 42,
   "metadata": {},
   "outputs": [
    {
     "name": "stdout",
     "output_type": "stream",
     "text": [
      "              precision    recall  f1-score   support\n",
      "\n",
      "         0.0       0.99      0.78      0.87    239387\n",
      "         1.0       0.01      0.27      0.03      2688\n",
      "\n",
      "    accuracy                           0.77    242075\n",
      "   macro avg       0.50      0.52      0.45    242075\n",
      "weighted avg       0.98      0.77      0.86    242075\n",
      "\n"
     ]
    }
   ],
   "source": [
    "y_pred2 = best_model.predict(X_out)\n",
    "print(classification_report (y_out, y_pred2))\n"
   ]
  },
  {
   "cell_type": "code",
   "execution_count": 43,
   "metadata": {},
   "outputs": [
    {
     "data": {
      "image/png": "[encoded data removed]",
      "text/plain": [
       "<Figure size 576x576 with 2 Axes>"
      ]
     },
     "metadata": {
      "needs_background": "light"
     },
     "output_type": "display_data"
    }
   ],
   "source": [
    "from sklearn.metrics import confusion_matrix\n",
    "\n",
    "conf_mat = confusion_matrix(y_out, y_pred2)\n",
    "\n",
    "# Create figure and axis objects\n",
    "fig, ax = plt.subplots(figsize=(8, 8))\n",
    "\n",
    "# Plot confusion matrix as heatmap with labels\n",
    "im = ax.imshow(conf_mat, cmap='Blues')\n",
    "\n",
    "# Add colorbar and labels\n",
    "cbar = ax.figure.colorbar(im, ax=ax)\n",
    "ax.set_xticks([0, 1])\n",
    "ax.set_yticks([0, 1])\n",
    "ax.set_xticklabels(['Negative', 'Positive'])\n",
    "ax.set_yticklabels(['Negative', 'Positive'])\n",
    "ax.set_xlabel('Predicted label')\n",
    "ax.set_ylabel('True label')\n",
    "\n",
    "# Add values to heatmap\n",
    "for i in range(len(conf_mat)):\n",
    "    for j in range(len(conf_mat[0])):\n",
    "        ax.text(j, i, conf_mat[i][j], ha='center', va='center', color='black')\n",
    "\n",
    "plt.show()"
   ]
  },
  {
   "cell_type": "markdown",
   "metadata": {},
   "source": [
    "## Conclusion"
   ]
  },
  {
   "cell_type": "raw",
   "metadata": {},
   "source": [
    "# Write a summary of your processing and an analysis of the model performance  \n",
    "# (Question #E304)\n",
    "# ----------------------------------\n",
    "\n",
    "\n",
    "# Prediciton without outliers \n",
    "\n",
    " precision    recall  f1-score   support\n",
    "\n",
    "         0.0       0.99      0.73      0.84    220150\n",
    "         1.0       0.01      0.32      0.03      2559\n",
    "\n",
    "    accuracy                           0.73    222709\n",
    "   macro avg       0.50      0.53      0.43    222709\n",
    "weighted avg       0.98      0.73      0.83    222709\n",
    "\n",
    "# Prediciton with outliers \n",
    "\n",
    " precision    recall  f1-score   support\n",
    "\n",
    "         0.0       0.99      0.78      0.87    239387\n",
    "         1.0       0.01      0.27      0.03      2688\n",
    "\n",
    "    accuracy                           0.77    242075\n",
    "   macro avg       0.50      0.52      0.45    242075\n",
    "weighted avg       0.98      0.77      0.86    242075\n",
    "\n",
    "\n",
    "Out of the three pipelines I used for the prediction, \n",
    "Elliptic Envelope , Factor Analysis , Random Forest is the best. I experimented with several pairings, and Random Forest consistently outperformed all other techniques.\n",
    "One of the things that kept coming to me was how I could increase the mdoel's accuracy. I believe that on my part, I could have placed more emphasis on exploratory data analysis. Additionally, the data was unbalanced, so I want to test what will happen if I use the same pipelines with balanced data. \n",
    "In terms of the forecast based on the test data, I believe the prediction with no outliers is correct and will produce better outcomes than the prediction.\n",
    "\n"
   ]
  },
  {
   "cell_type": "markdown",
   "metadata": {},
   "source": [
    "## Reflect\n",
    "\n",
    "**Brief Summary** for \"management\" that details the findings, level of certainty and trust in the models, \n",
    "and recommendations for operationalizing these models for the business."
   ]
  },
  {
   "cell_type": "raw",
   "metadata": {},
   "source": [
    "# Write your answer here:  \n",
    "# (Question #E305)\n",
    "# ----------------------------------\n",
    "\n",
    "Here,I have performed extensive research utilizing three pipelines: Elliptic Envelope, Factor research, and Random Forest as a data scientist tasked with designing a system to forecast and prevent back orders in our supply chain. I have found that Random Forest consistently beats the other methodologies, displaying higher predictive powers, after considerable research and review.\n",
    "Findings:\n",
    "\n",
    "Model Performance: In terms of precision and dependability, Random Forest regularly surpassed Elliptic Envelope and Factor Analysis. In different studies and evaluations, it showed the best predictability and stability.\n",
    "\n",
    "Emphasis on Exploratory Data Analysis: I understand that in order to further boost the model's accuracy, exploratory data analysis needs to receive more attention. We can find hidden patterns and relationships in the data and acquire deeper insights into them, which could improve the prediction model performance.\n",
    "\n",
    "Addressing Data Imbalance: The data used to train the models revealed an imbalance between instances that were on backorder and those that weren't. I advise putting the same pipelines through testing with balanced data to increase the models' accuracy even more. As a result, the models will be trained on representative samples and will be able to generalize the real world scenarios in a better way.\n",
    "\n",
    "Level of Certainty and Trust: My confidence in the chosen Random Forest model is quite strong. It has undergone extensive testing and assessment and constantly exhibits exceptional performance. A model's capacity to predict and successfully prevent back orders can be trusted because of its accuracy, dependability, and track record.\n",
    "\n",
    "Operationalization Recommendations:\n",
    "I suggest taking the following actions to operationalize the models and use them to achieve cost savings:\n",
    "\n",
    "Integrate the Random Forest model into our current supply chain management system. Integration with Workflow. This will make it possible to predict potential back orders in real-time, enabling proactive decision-making and prompt response.\n",
    "\n",
    "Setting up a method for regular monitoring and evaluation of the model's performance is essential. Regular evaluations will assist in identifying any deviations or drifts in performance, allowing for timely updates and improvements as needed.\n",
    "Collaboration is encouraged between data scientists, supply chain experts, and domain specialists. The improvement and optimization of the predictive models will be aided by the important insights and domain-specific expertise provided by this multidisciplinary partnership.\n",
    "\n",
    "Taking Care of Outliers: In light of my findings, I advise using the model's forecasts free of outliers. By removing outliers from the dataset, the model performs better and produces predictions that are more dependable and accurate.\n",
    "\n",
    "\n",
    "By following these suggestions, we may use the Random Forest model's ability to predict and prevent back orders, saving the organization a lot of money. The model's effectiveness will be further increased through ongoing team evaluation and collaboration, which will also guarantee that it is in line with changing business requirements.\n",
    "\n",
    "Overall, I have a lot of faith in the Random Forest model's ability to significantly improve supply chain processes. By putting the model into practice and taking the suggested actions, we can effectively avoid backorders, improve inventory control, and eventually reduce expenses for our business.\n"
   ]
  },
  {
   "cell_type": "markdown",
   "metadata": {},
   "source": [
   ]
  },
  {
   "cell_type": "code",
   "execution_count": null,
   "metadata": {},
   "outputs": [],
   "source": []
  },
  {
   "cell_type": "code",
   "execution_count": null,
   "metadata": {},
   "outputs": [],
   "source": []
  },
  {
   "cell_type": "code",
   "execution_count": null,
   "metadata": {},
   "outputs": [],
   "source": []
  }
 ],
 "metadata": {
  "kernelspec": {
   "display_name": "Python 3",
   "language": "python",
   "name": "python3"
  },
  "language_info": {
   "codemirror_mode": {
    "name": "ipython",
    "version": 3
   },
   "file_extension": ".py",
   "mimetype": "text/x-python",
   "name": "python",
   "nbconvert_exporter": "python",
   "pygments_lexer": "ipython3",
   "version": "3.7.3"
  }
 },
 "nbformat": 4,
 "nbformat_minor": 4
}
