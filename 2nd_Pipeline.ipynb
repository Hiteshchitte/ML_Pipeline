{
 "cells": [
  {
   "cell_type": "markdown",
   "metadata": {},
   "source": [
    "# Part II: Model Development 2nd Pipeline\n",
    "\n",
    "\n",
    "In this part, we develop three unique pipelines for predicting backorder. We use the smart sample from Part I to fit and evaluate these pipelines. "
   ]
  },
  {
   "cell_type": "code",
   "execution_count": 1,
   "metadata": {},
   "outputs": [],
   "source": [
    "%matplotlib inline\n",
    "import matplotlib.pyplot as plt\n",
    "\n",
    "import os, sys\n",
    "import itertools\n",
    "import numpy as np\n",
    "import pandas as pd"
   ]
  },
  {
   "cell_type": "markdown",
   "metadata": {},
   "source": [
    "## Reload the smart sample here"
   ]
  },
  {
   "cell_type": "code",
   "execution_count": 2,
   "metadata": {},
   "outputs": [],
   "source": [
    "\n",
    "# Reload your smart sampling from local file \n",
    "# ----------------------------------\n",
    "\n",
    "import joblib\n",
    "\n",
    "# Load the sampled data from the file\n",
    "hitesh_df = joblib.load('undersample_df.pkl')\n",
    "\n"
   ]
  },
  {
   "cell_type": "markdown",
   "metadata": {},
   "source": [
    "## Normalize/standardize the data if required; otherwise ignore. You can perform this step inside the pipeline (if required). "
   ]
  },
  {
   "cell_type": "code",
   "execution_count": 3,
   "metadata": {},
   "outputs": [],
   "source": [
    "# from sklearn.preprocessing import MinMaxScaler\n",
    "\n",
    "# scaler = MinMaxScaler()\n",
    "\n",
    "# #Normalizse the dat \n",
    "\n",
    "# normalized_data = scaler.fit_transform(hitesh_df)\n",
    "# normalized_data\n"
   ]
  },
  {
   "cell_type": "code",
   "execution_count": 4,
   "metadata": {},
   "outputs": [],
   "source": [
    "# #Checking if the data is normalised \n",
    "\n",
    "# import numpy as np\n",
    "\n",
    "# normalized_data = scaler.fit_transform(hitesh_df)\n",
    "\n",
    "# print(\"Mean:\", np.mean(normalized_data, axis=0))\n",
    "# print(\"Standard deviation:\", np.std(normalized_data, axis=0)) #As mean is close to 0 and SD is close to 1 we can say that the data is normalized \n",
    "\n"
   ]
  },
  {
   "cell_type": "code",
   "execution_count": 5,
   "metadata": {},
   "outputs": [],
   "source": [
    "# import pandas as pd\n",
    "\n",
    "# normalized_df = pd.DataFrame(normalized_data, columns=hitesh_df.columns)\n",
    "\n",
    "# normalized_df.describe()"
   ]
  },
  {
   "cell_type": "markdown",
   "metadata": {},
   "source": [
    "## Split the data into Train/Test"
   ]
  },
  {
   "cell_type": "code",
   "execution_count": 6,
   "metadata": {},
   "outputs": [],
   "source": [
    "X = hitesh_df.iloc [:, :-1]\n",
    "y = hitesh_df.went_on_backorder"
   ]
  },
  {
   "cell_type": "code",
   "execution_count": 7,
   "metadata": {},
   "outputs": [],
   "source": [
    "from sklearn.model_selection import train_test_split\n",
    "\n",
    "X_train, X_test, y_train, y_test = train_test_split(X, y, test_size = 0.25, random_state = 42, stratify=y)\n",
    "\n"
   ]
  },
  {
   "cell_type": "code",
   "execution_count": 8,
   "metadata": {},
   "outputs": [],
   "source": [
    "from sklearn.svm import OneClassSVM\n",
    "from sklearn.neighbors import LocalOutlierFactor\n",
    "from sklearn.covariance import EllipticEnvelope\n",
    "from sklearn.ensemble import IsolationForest\n",
    "from sklearn.linear_model import LogisticRegression\n",
    "from sklearn.metrics import classification_report, confusion_matrix\n",
    "from sklearn.decomposition import PCA, FactorAnalysis\n",
    "from sklearn.preprocessing import StandardScaler\n",
    "from sklearn.preprocessing import MinMaxScaler\n",
    "from sklearn.feature_selection import SelectKBest, chi2, f_classif, mutual_info_classif\n",
    "from sklearn.pipeline import Pipeline\n",
    "from sklearn.ensemble import RandomForestClassifier\n",
    "from sklearn.pipeline import Pipeline\n",
    "from sklearn.base import BaseEstimator"
   ]
  },
  {
   "cell_type": "code",
   "execution_count": null,
   "metadata": {},
   "outputs": [],
   "source": []
  },
  {
   "cell_type": "markdown",
   "metadata": {},
   "source": [
    "### 2nd pipeline\n"
   ]
  },
  {
   "cell_type": "code",
   "execution_count": 10,
   "metadata": {},
   "outputs": [],
   "source": [
    "X_train2 = X_train \n",
    "y_train2 = y_train"
   ]
  },
  {
   "cell_type": "code",
   "execution_count": 17,
   "metadata": {},
   "outputs": [
    {
     "name": "stdout",
     "output_type": "stream",
     "text": [
      "Number of outliers: 1317\n"
     ]
    }
   ],
   "source": [
    "# Add anomaly detection code  (Question #E205)\n",
    "# ----------------------------------\n",
    "\n",
    "#Elliptic Envelope \n",
    "\n",
    "envelope = EllipticEnvelope(support_fraction=1, contamination=0.08)  # Set the desired contamination level\n",
    "envelope.fit(X_train2)\n",
    "\n",
    "# Predict outliers\n",
    "outliers = envelope.predict(X_train2) == -1  # Returns a boolean array with True for outliers\n",
    "\n",
    "# Print number of outliers and the indices of the outliers\n",
    "print(f\"Number of outliers: {sum(outliers)}\")\n",
    "\n",
    "X_env = X_train2[~outliers]\n",
    "y_env = y_train2[~outliers]\n"
   ]
  },
  {
   "cell_type": "code",
   "execution_count": 26,
   "metadata": {},
   "outputs": [],
   "source": [
    "# Add codes for feature selection and classification pipeline with grid search  (Question #E206)\n",
    "# ----------------------------------\n",
    "\n",
    "pipe1 = Pipeline([\n",
    "    ('scaler', MinMaxScaler()),\n",
    "    ('fa', FactorAnalysis()),\n",
    "    ('rf', RandomForestClassifier())                 \n",
    "])"
   ]
  },
  {
   "cell_type": "code",
   "execution_count": 27,
   "metadata": {},
   "outputs": [],
   "source": [
    "# Configuring the parameters for grid search \n",
    "\n",
    "param_grid1 = {\n",
    "    'fa__n_components': [10, 20, 30, 40],\n",
    "    'rf__n_estimators': [200, 400, 600, 800],\n",
    "    'rf__max_depth': [None, 5, 10],\n",
    "    'rf__min_samples_split': [2, 5, 10]\n",
    "}"
   ]
  },
  {
   "cell_type": "code",
   "execution_count": 28,
   "metadata": {},
   "outputs": [
    {
     "data": {
      "text/plain": [
       "GridSearchCV(cv=2,\n",
       "             estimator=Pipeline(steps=[('scaler', MinMaxScaler()),\n",
       "                                       ('fa', FactorAnalysis()),\n",
       "                                       ('rf', RandomForestClassifier())]),\n",
       "             n_jobs=5,\n",
       "             param_grid={'fa__n_components': [10, 20, 30, 40],\n",
       "                         'rf__max_depth': [None, 5, 10],\n",
       "                         'rf__min_samples_split': [2, 5, 10],\n",
       "                         'rf__n_estimators': [200, 400, 600, 800]})"
      ]
     },
     "execution_count": 28,
     "metadata": {},
     "output_type": "execute_result"
    }
   ],
   "source": [
    "# Given an unbiased evaluation  (Question #E207)\n",
    "# ----------------------------------\n",
    "\n",
    "from sklearn.model_selection import GridSearchCV\n",
    "\n",
    "model_grid2 = GridSearchCV(pipe1, param_grid1, cv = 2, n_jobs = 5)\n",
    "model_grid2.fit(X_env, y_env)\n"
   ]
  },
  {
   "cell_type": "code",
   "execution_count": 31,
   "metadata": {},
   "outputs": [
    {
     "name": "stdout",
     "output_type": "stream",
     "text": [
      "              precision    recall  f1-score   support\n",
      "\n",
      "           0       0.90      0.85      0.87      2743\n",
      "           1       0.85      0.90      0.88      2742\n",
      "\n",
      "    accuracy                           0.87      5485\n",
      "   macro avg       0.88      0.87      0.87      5485\n",
      "weighted avg       0.88      0.87      0.87      5485\n",
      "\n"
     ]
    }
   ],
   "source": [
    "y_pred1 = model_grid2.predict(X_test)\n",
    "print(classification_report (y_test, y_pred1))\n",
    "\n"
   ]
  },
  {
   "cell_type": "code",
   "execution_count": 32,
   "metadata": {},
   "outputs": [
    {
     "data": {
      "text/plain": [
       "Pipeline(steps=[('scaler', MinMaxScaler()),\n",
       "                ('fa', FactorAnalysis(n_components=30)),\n",
       "                ('rf', RandomForestClassifier(n_estimators=800))])"
      ]
     },
     "execution_count": 32,
     "metadata": {},
     "output_type": "execute_result"
    }
   ],
   "source": [
    "model_grid2.best_estimator_"
   ]
  },
  {
   "cell_type": "code",
   "execution_count": 38,
   "metadata": {},
   "outputs": [
    {
     "data": {
      "image/png": "[encoded data removed]",
      "text/plain": [
       "<Figure size 576x576 with 2 Axes>"
      ]
     },
     "metadata": {
      "needs_background": "light"
     },
     "output_type": "display_data"
    }
   ],
   "source": [
    "from sklearn.metrics import confusion_matrix\n",
    "\n",
    "conf_mat = confusion_matrix(y_test, y_pred1)\n",
    "\n",
    "# Create figure and axis objects\n",
    "fig, ax = plt.subplots(figsize=(8, 8))\n",
    "\n",
    "# Plot confusion matrix as heatmap with labels\n",
    "im = ax.imshow(conf_mat, cmap='Blues')\n",
    "\n",
    "# Add colorbar and labels\n",
    "cbar = ax.figure.colorbar(im, ax=ax)\n",
    "ax.set_xticks([0, 1])\n",
    "ax.set_yticks([0, 1])\n",
    "ax.set_xticklabels(['Negative', 'Positive'])\n",
    "ax.set_yticklabels(['Negative', 'Positive'])\n",
    "ax.set_xlabel('Predicted label')\n",
    "ax.set_ylabel('True label')\n",
    "\n",
    "# Add values to heatmap\n",
    "for i in range(len(conf_mat)):\n",
    "    for j in range(len(conf_mat[0])):\n",
    "        ax.text(j, i, conf_mat[i][j], ha='center', va='center', color='black')\n",
    "\n",
    "plt.show()"
   ]
  },
  {
   "cell_type": "code",
   "execution_count": null,
   "metadata": {},
   "outputs": [],
   "source": []
  },
  {
   "cell_type": "markdown",
   "metadata": {},
   "source": [
    "#### <center>Recording the optimal hyperparameters and performance resulting from this pipeline.</center>"
   ]
  },
  {
   "cell_type": "raw",
   "metadata": {},
   "source": [
    "# Detail Hyperparameters and Results below  (Question #E208)\n",
    "# ---------------------------------------------\n",
    "\n",
    "1st attempt \n",
    "\n",
    "GridSearchCV(cv=2,\n",
    "             estimator=Pipeline(steps=[('scaler', MinMaxScaler()),\n",
    "                                       ('fa', FactorAnalysis()),\n",
    "                                       ('rf', RandomForestClassifier())]),\n",
    "             n_jobs=5,\n",
    "             param_grid={'fa__n_components': [2, 5, 10],\n",
    "                         'rf__max_depth': [None, 5, 10],\n",
    "                         'rf__min_samples_split': [2, 5, 10],\n",
    "                         'rf__n_estimators': [50, 100, 200]})\n",
    "                         \n",
    "                precision    recall  f1-score   support\n",
    "\n",
    "           0       0.89      0.80      0.84      2743\n",
    "           1       0.82      0.90      0.86      2742\n",
    "\n",
    "    accuracy                           0.85      5485\n",
    "   macro avg       0.85      0.85      0.85      5485\n",
    "weighted avg       0.85      0.85      0.85      5485\n",
    "\n",
    "_estimator_\n",
    "\n",
    "\n",
    "Pipeline(steps=[('scaler', MinMaxScaler()),\n",
    "                ('fa', FactorAnalysis(n_components=10)),\n",
    "                ('rf', RandomForestClassifier(n_estimators=200))])\n",
    "                \n",
    "               \n",
    "2nd Attempt \n",
    "\n",
    "GridSearchCV(cv=2,\n",
    "             estimator=Pipeline(steps=[('scaler', MinMaxScaler()),\n",
    "                                       ('fa', FactorAnalysis()),\n",
    "                                       ('rf', RandomForestClassifier())]),\n",
    "             n_jobs=5,\n",
    "             param_grid={'fa__n_components': [10, 20, 30, 40],\n",
    "                         'rf__max_depth': [None, 5, 10],\n",
    "                         'rf__min_samples_split': [2, 5, 10],\n",
    "                         'rf__n_estimators': [200, 400, 600, 800]})\n",
    "                         \n",
    "                         \n",
    "\n",
    "                precision    recall  f1-score   support\n",
    "\n",
    "           0       0.90      0.85      0.87      2743\n",
    "           1       0.85      0.90      0.88      2742\n",
    "\n",
    "    accuracy                           0.87      5485\n",
    "   macro avg       0.88      0.87      0.87      5485\n",
    "weighted avg       0.88      0.87      0.87      5485\n",
    "\n",
    "\n",
    "\n",
    "\n"
   ]
  },
  {
   "cell_type": "code",
   "execution_count": null,
   "metadata": {},
   "outputs": [],
   "source": [
    "\n",
    "\n",
    "\n"
   ]
  },
  {
   "cell_type": "code",
   "execution_count": null,
   "metadata": {},
   "outputs": [],
   "source": []
  }
 ],
 "metadata": {
  "kernelspec": {
   "display_name": "Python 3",
   "language": "python",
   "name": "python3"
  },
  "language_info": {
   "codemirror_mode": {
    "name": "ipython",
    "version": 3
   },
   "file_extension": ".py",
   "mimetype": "text/x-python",
   "name": "python",
   "nbconvert_exporter": "python",
   "pygments_lexer": "ipython3",
   "version": "3.7.3"
  }
 },
 "nbformat": 4,
 "nbformat_minor": 4
}
